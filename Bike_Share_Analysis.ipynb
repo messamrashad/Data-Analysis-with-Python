{
 "cells": [
  {
   "cell_type": "markdown",
   "metadata": {},
   "source": [
    "# 2016 US Bike Share Activity Snapshot\n",
    "\n",
    "## Table of Contents\n",
    "- [Introduction](#intro)\n",
    "- [Posing Questions](#pose_questions)\n",
    "- [Data Collection and Wrangling](#wrangling)\n",
    "  - [Condensing the Trip Data](#condensing)\n",
    "- [Exploratory Data Analysis](#eda)\n",
    "  - [Statistics](#statistics)\n",
    "  - [Visualizations](#visualizations)\n",
    "- [Performing Your Own Analysis](#eda_continued)\n",
    "- [Conclusions](#conclusions)\n",
    "\n",
    "<a id='intro'></a>\n",
    "## Introduction\n",
    "Over the past decade, bicycle-sharing systems have been growing in number and popularity in cities across the world. Bicycle-sharing systems allow users to rent bicycles for short trips, typically 30 minutes or less. Thanks to the rise in information technologies, it is easy for a user of the system to access a dock within the system to unlock or return bicycles. These technologies also provide a wealth of data that can be used to explore how these bike-sharing systems are used.\n",
    "\n",
    "In this project, you will perform an exploratory analysis on data provided by [Motivate](https://www.motivateco.com/), a bike-share system provider for many major cities in the United States. You will compare the system usage between three large cities: New York City, Chicago, and Washington, DC. You will also see if there are any differences within each system for those users that are registered, regular users and those users that are short-term, casual users."
   ]
  },
  {
   "cell_type": "markdown",
   "metadata": {},
   "source": [
    "<a id='pose_questions'></a>\n",
    "## Posing Questions\n",
    "\n",
    "Before looking at the bike sharing data, I should decide what question i want to answer in this analysis.\n",
    "\n",
    "- What is the total number of trips per day in a specfic city?\n",
    "- which gender is likely to ride bikes often Males or Females or Other?"
   ]
  },
  {
   "cell_type": "markdown",
   "metadata": {},
   "source": [
    "<a id='wrangling'></a>\n",
    "## Data Collection and Wrangling\n",
    "\n",
    "Now it's time to collect and explore our data. In this project, I will focus on the record of individual trips taken in 2016 from our selected cities: New York City, Chicago, and Washington, DC. Each of these cities has a page where we can freely download the trip data.:\n",
    "\n",
    "- New York City (Citi Bike): [Link](https://www.citibikenyc.com/system-data)\n",
    "- Chicago (Divvy): [Link](https://www.divvybikes.com/system-data)\n",
    "- Washington, DC (Capital Bikeshare): [Link](https://www.capitalbikeshare.com/system-data)\n",
    "\n",
    "If you visit these pages, you will notice that each city has a different way of delivering its data. Chicago updates with new data twice a year, Washington DC is quarterly, and New York City is monthly. However, there is still a lot of data for us to investigate, so it's a good idea to start off by looking at one entry from each of the cities we're going to analyze. Run the first code cell below to load some packages and functions that you'll be using in your analysis. Then, complete the second code cell to print out the first trip recorded from each of the cities (the second line of each data file).\n"
   ]
  },
  {
   "cell_type": "code",
   "execution_count": 5,
   "metadata": {},
   "outputs": [],
   "source": [
    "## import all necessary packages and functions.\n",
    "import csv # read and write csv files\n",
    "from datetime import datetime # Library to parse dates\n",
    "from pprint import pprint # use to print data structures like dictionaries in\n",
    "                          # a nicer way than the base print function."
   ]
  },
  {
   "cell_type": "code",
   "execution_count": 6,
   "metadata": {},
   "outputs": [
    {
     "name": "stdout",
     "output_type": "stream",
     "text": [
      "\n",
      "City: NYC\n",
      "OrderedDict([('tripduration', '839'),\n",
      "             ('starttime', '1/1/2016 00:09:55'),\n",
      "             ('stoptime', '1/1/2016 00:23:54'),\n",
      "             ('start station id', '532'),\n",
      "             ('start station name', 'S 5 Pl & S 4 St'),\n",
      "             ('start station latitude', '40.710451'),\n",
      "             ('start station longitude', '-73.960876'),\n",
      "             ('end station id', '401'),\n",
      "             ('end station name', 'Allen St & Rivington St'),\n",
      "             ('end station latitude', '40.72019576'),\n",
      "             ('end station longitude', '-73.98997825'),\n",
      "             ('bikeid', '17109'),\n",
      "             ('usertype', 'Customer'),\n",
      "             ('birth year', ''),\n",
      "             ('gender', '0')])\n",
      "\n",
      "City: Chicago\n",
      "OrderedDict([('trip_id', '9080545'),\n",
      "             ('starttime', '3/31/2016 23:30'),\n",
      "             ('stoptime', '3/31/2016 23:46'),\n",
      "             ('bikeid', '2295'),\n",
      "             ('tripduration', '926'),\n",
      "             ('from_station_id', '156'),\n",
      "             ('from_station_name', 'Clark St & Wellington Ave'),\n",
      "             ('to_station_id', '166'),\n",
      "             ('to_station_name', 'Ashland Ave & Wrightwood Ave'),\n",
      "             ('usertype', 'Subscriber'),\n",
      "             ('gender', 'Male'),\n",
      "             ('birthyear', '1990')])\n",
      "\n",
      "City: Washington\n",
      "OrderedDict([('Duration (ms)', '427387'),\n",
      "             ('Start date', '3/31/2016 22:57'),\n",
      "             ('End date', '3/31/2016 23:04'),\n",
      "             ('Start station number', '31602'),\n",
      "             ('Start station', 'Park Rd & Holmead Pl NW'),\n",
      "             ('End station number', '31207'),\n",
      "             ('End station', 'Georgia Ave and Fairmont St NW'),\n",
      "             ('Bike number', 'W20842'),\n",
      "             ('Member Type', 'Registered')])\n"
     ]
    }
   ],
   "source": [
    "def print_first_point(filename):\n",
    "    \"\"\"\n",
    "    This function prints and returns the first data point (second row) from\n",
    "    a csv file that includes a header row.\n",
    "    \"\"\"\n",
    "    # print city name for reference\n",
    "    city = filename.split('-')[0].split('/')[-1]\n",
    "    print('\\nCity: {}'.format(city))\n",
    "    \n",
    "    with open(filename, 'r') as f_in:\n",
    "        ## TODO: Use the csv library to set up a DictReader object. ##\n",
    "        ## see https://docs.python.org/3/library/csv.html           ##\n",
    "        trip_reader =csv.DictReader(f_in)\n",
    "        \n",
    "        ## TODO: Use a function on the DictReader object to read the     ##\n",
    "        ## first trip from the data file and store it in a variable.     ##\n",
    "        ## see https://docs.python.org/3/library/csv.html#reader-objects ##\n",
    "        first_trip = next(trip_reader)\n",
    "        \n",
    "        ## TODO: Use the pprint library to print the first trip. ##\n",
    "        ## see https://docs.python.org/3/library/pprint.html     ##\n",
    "        pprint(first_trip)\n",
    "        \n",
    "    # output city name and first trip for later testing\n",
    "    return (city, first_trip)\n",
    "\n",
    "# list of files for each city\n",
    "data_files = ['./data/NYC-CitiBike-2016.csv',\n",
    "              './data/Chicago-Divvy-2016.csv',\n",
    "              './data/Washington-CapitalBikeshare-2016.csv',]\n",
    "\n",
    "# print the first trip from each file, store in dictionary\n",
    "example_trips = {}\n",
    "for data_file in data_files:\n",
    "    city, first_trip = print_first_point(data_file)\n",
    "    example_trips[city] = first_trip"
   ]
  },
  {
   "cell_type": "markdown",
   "metadata": {},
   "source": [
    "This will be useful since we can refer to quantities by an easily-understandable label instead of just a numeric index. For example, if we have a trip stored in the variable `row`, then we would rather get the trip duration from `row['duration']` instead of `row[0]`.\n",
    "\n",
    "<a id='condensing'></a>\n",
    "### Condensing the Trip Data\n",
    "\n",
    "It should also be observable from the above printout that each city provides different information. Even where the information is the same, the column names and formats are sometimes different. To make things as simple as possible when we get to the actual exploration, we should trim and clean the data. Cleaning the data makes sure that the data formats across the cities are consistent, while trimming focuses only on the parts of the data we are most interested in to make the exploration easier to work with.\n",
    "\n",
    "You will generate new data files with five values of interest for each trip: trip duration, starting month, starting hour, day of the week, and user type. Each of these may require additional wrangling depending on the city:\n",
    "\n",
    "- **Duration**: This has been given to us in seconds (New York, Chicago) or milliseconds (Washington). A more natural unit of analysis will be if all the trip durations are given in terms of minutes.\n",
    "- **Month**, **Hour**, **Day of Week**: Ridership volume is likely to change based on the season, time of day, and whether it is a weekday or weekend. Use the start time of the trip to obtain these values. The New York City data includes the seconds in their timestamps, while Washington and Chicago do not. The [`datetime`](https://docs.python.org/3/library/datetime.html) package will be very useful here to make the needed conversions.\n",
    "- **User Type**: It is possible that users who are subscribed to a bike-share system will have different patterns of use compared to users who only have temporary passes. Washington divides its users into two types: 'Registered' for users with annual, monthly, and other longer-term subscriptions, and 'Casual', for users with 24-hour, 3-day, and other short-term passes. The New York and Chicago data uses 'Subscriber' and 'Customer' for these groups, respectively. For consistency, you will convert the Washington labels to match the other two.\n",
    "\n",
    "\n",
    "The helper functions in the code cells below to address each of the cleaning tasks described above."
   ]
  },
  {
   "cell_type": "code",
   "execution_count": 7,
   "metadata": {},
   "outputs": [],
   "source": [
    "def duration_in_mins(datum, city):\n",
    "    \"\"\"\n",
    "    Takes as input a dictionary containing info about a single trip (datum) and\n",
    "    its origin city (city) and returns the trip duration in units of minutes.\n",
    "    \n",
    "    Remember that Washington is in terms of milliseconds while Chicago and NYC\n",
    "    are in terms of seconds. \n",
    "    \n",
    "    \"\"\"\n",
    "    \n",
    "    # YOUR CODE HERE\n",
    "    if city == \"Chicago\" or city == \"NYC\":\n",
    "        duration = int(datum['tripduration']) / 60\n",
    "    else:\n",
    "        duration = (int(datum['Duration (ms)'])/(1000 * 60)) % 60\n",
    "    \n",
    "    return duration\n",
    "\n",
    "\n",
    "# Some tests to check that your code works. There should be no output if all of\n",
    "# the assertions pass. The `example_trips` dictionary was obtained from when\n",
    "# you printed the first trip from each of the original data files.\n",
    "tests = {'NYC': 13.9833,\n",
    "         'Chicago': 15.4333,\n",
    "         'Washington': 7.1231}\n",
    "\n",
    "for city in tests:\n",
    "    assert abs(duration_in_mins(example_trips[city], city) - tests[city]) < .001"
   ]
  },
  {
   "cell_type": "code",
   "execution_count": 8,
   "metadata": {},
   "outputs": [],
   "source": [
    "def time_of_trip(datum, city):\n",
    "    \"\"\"\n",
    "    Takes as input a dictionary containing info about a single trip (datum) and\n",
    "    its origin city (city) and returns the month, hour, and day of the week in\n",
    "    which the trip was made.\n",
    "    \n",
    "    Remember that NYC includes seconds, while Washington and Chicago do not.\n",
    "\n",
    "    \"\"\"\n",
    "    \n",
    "    # YOUR CODE HERE\n",
    "    # Deciding the format of the timestamp based on the city name\n",
    "    if city == \"Washington\":\n",
    "        formatted_date = datetime.strptime(datum['Start date'], '%m/%d/%Y %H:%M')\n",
    "        month = int(formatted_date.strftime(\"%#m\"))\n",
    "        hour = int(formatted_date.strftime(\"%#H\"))\n",
    "        day_of_week = str(formatted_date.strftime(\"%A\"))\n",
    "    elif city == \"Chicago\":\n",
    "        formatted_date = datetime.strptime(datum['starttime'], '%m/%d/%Y %H:%M')\n",
    "        month = int(formatted_date.strftime(\"%#m\"))\n",
    "        hour = int(formatted_date.strftime(\"%#H\"))\n",
    "        day_of_week = str(formatted_date.strftime(\"%A\"))\n",
    "    else:\n",
    "        formatted_date = datetime.strptime(datum['starttime'], '%m/%d/%Y %H:%M:%S')\n",
    "        month = int(formatted_date.strftime(\"%#m\"))\n",
    "        hour = int(formatted_date.strftime(\"%#H\"))\n",
    "        day_of_week = str(formatted_date.strftime(\"%A\"))\n",
    "    \n",
    "    return (month, hour, day_of_week)\n",
    "\n",
    "\n",
    "# Some tests to check that your code works. There should be no output if all of\n",
    "# the assertions pass. The `example_trips` dictionary was obtained from when\n",
    "# you printed the first trip from each of the original data files.\n",
    "tests = {'NYC': (1, 0, 'Friday'),\n",
    "         'Chicago': (3, 23, 'Thursday'),\n",
    "         'Washington': (3, 22, 'Thursday')}\n",
    "\n",
    "for city in tests:\n",
    "    assert time_of_trip(example_trips[city], city) == tests[city]"
   ]
  },
  {
   "cell_type": "code",
   "execution_count": 9,
   "metadata": {},
   "outputs": [],
   "source": [
    "def type_of_user(datum, city):\n",
    "    \"\"\"\n",
    "    Takes as input a dictionary containing info about a single trip (datum) and\n",
    "    its origin city (city) and returns the type of system user that made the\n",
    "    trip.\n",
    "    \n",
    "    Remember that Washington has different category names compared to Chicago\n",
    "    and NYC. \n",
    "    \"\"\"\n",
    "    \n",
    "    # YOUR CODE HERE\n",
    "    # Deciding the value which will be read from the record based on the city name.\n",
    "    if city != \"Washington\":\n",
    "        user_type = datum['usertype']\n",
    "    else:\n",
    "        if datum['Member Type'] == 'Registered':\n",
    "            user_type = 'Subscriber'\n",
    "        else:\n",
    "            user_type = 'Customer'\n",
    "    \n",
    "    return user_type\n",
    "\n",
    "\n",
    "# Some tests to check that your code works. There should be no output if all of\n",
    "# the assertions pass. The `example_trips` dictionary was obtained from when\n",
    "# you printed the first trip from each of the original data files.\n",
    "tests = {'NYC': 'Customer',\n",
    "         'Chicago': 'Subscriber',\n",
    "         'Washington': 'Subscriber'}\n",
    "\n",
    "for city in tests:\n",
    "    assert type_of_user(example_trips[city], city) == tests[city]"
   ]
  },
  {
   "cell_type": "markdown",
   "metadata": {},
   "source": [
    "Question 3b: Now, use the helper functions you wrote above to create a condensed data file for each city consisting only of the data fields indicated above. In the /examples/ folder, you will see an example datafile from the Bay Area Bike Share before and after conversion. Make sure that your output is formatted to be consistent with the example file."
   ]
  },
  {
   "cell_type": "code",
   "execution_count": 10,
   "metadata": {},
   "outputs": [],
   "source": [
    "def condense_data(in_file, out_file, city):\n",
    "    \"\"\"\n",
    "    This function takes full data from the specified input file\n",
    "    and writes the condensed data to a specified output file. The city\n",
    "    argument determines how the input file will be parsed.\n",
    "\n",
    "    \"\"\"\n",
    "    \n",
    "    with open(out_file, 'w') as f_out, open(in_file, 'r') as f_in:\n",
    "        # set up csv DictWriter object - writer requires column names for the\n",
    "        # first row as the \"fieldnames\" argument\n",
    "        out_colnames = ['duration', 'month', 'hour', 'day_of_week', 'user_type']        \n",
    "        trip_writer = csv.DictWriter(f_out, fieldnames = out_colnames)\n",
    "        trip_writer.writeheader()\n",
    "        \n",
    "        ## TODO: set up csv DictReader object ##\n",
    "        trip_reader = csv.DictReader(f_in)\n",
    "\n",
    "        # collect data from and process each row\n",
    "        for row in trip_reader:\n",
    "            # set up a dictionary to hold the values for the cleaned and trimmed\n",
    "            # data point\n",
    "            new_point = {}\n",
    "            month, hour, day_of_week=time_of_trip(row, city)\n",
    "\n",
    "            ## TODO: use the helper functions to get the cleaned data from  ##\n",
    "            ## the original data dictionaries.                              ##\n",
    "            ## Note that the keys for the new_point dictionary should match ##\n",
    "            ## the column names set in the DictWriter object above.         ##\n",
    "            new_point['duration'] = duration_in_mins(row, city)\n",
    "            new_point['month'] = month\n",
    "            new_point['hour'] = hour\n",
    "            new_point['day_of_week'] = day_of_week\n",
    "            new_point['user_type'] = type_of_user(row, city)\n",
    "\n",
    "            ## TODO: write the processed information to the output file.     ##\n",
    "            ## see https://docs.python.org/3/library/csv.html#writer-objects ##\n",
    "            trip_writer.writerow(new_point)\n",
    "            "
   ]
  },
  {
   "cell_type": "code",
   "execution_count": 11,
   "metadata": {},
   "outputs": [
    {
     "name": "stdout",
     "output_type": "stream",
     "text": [
      "\n",
      "City: Washington\n",
      "OrderedDict([('duration', '7.123116666666666'),\n",
      "             ('month', '3'),\n",
      "             ('hour', '22'),\n",
      "             ('day_of_week', 'Thursday'),\n",
      "             ('user_type', 'Subscriber')])\n",
      "\n",
      "City: Chicago\n",
      "OrderedDict([('duration', '15.433333333333334'),\n",
      "             ('month', '3'),\n",
      "             ('hour', '23'),\n",
      "             ('day_of_week', 'Thursday'),\n",
      "             ('user_type', 'Subscriber')])\n",
      "\n",
      "City: NYC\n",
      "OrderedDict([('duration', '13.983333333333333'),\n",
      "             ('month', '1'),\n",
      "             ('hour', '0'),\n",
      "             ('day_of_week', 'Friday'),\n",
      "             ('user_type', 'Customer')])\n"
     ]
    }
   ],
   "source": [
    "# Run this cell to check your work\n",
    "city_info = {'Washington': {'in_file': './data/Washington-CapitalBikeshare-2016.csv',\n",
    "                            'out_file': './data/Washington-2016-Summary.csv'},\n",
    "             'Chicago': {'in_file': './data/Chicago-Divvy-2016.csv',\n",
    "                         'out_file': './data/Chicago-2016-Summary.csv'},\n",
    "             'NYC': {'in_file': './data/NYC-CitiBike-2016.csv',\n",
    "                     'out_file': './data/NYC-2016-Summary.csv'}}\n",
    "\n",
    "for city, filenames in city_info.items():\n",
    "    condense_data(filenames['in_file'], filenames['out_file'], city)\n",
    "    print_first_point(filenames['out_file'])"
   ]
  },
  {
   "cell_type": "markdown",
   "metadata": {},
   "source": [
    "<a id='eda'></a>\n",
    "## Exploratory Data Analysis\n",
    "\n",
    "Now that you have the data collected and wrangled, you're ready to start exploring the data. In this section you will write some code to compute descriptive statistics from the data. You will also be introduced to the `matplotlib` library to create some basic histograms of the data.\n",
    "\n",
    "<a id='statistics'></a>\n",
    "### Statistics\n",
    "\n",
    "First, let's compute some basic counts. The first cell below contains a function that uses the csv module to iterate through a provided data file, returning the number of trips made by subscribers and customers. The second cell runs this function on the example Bay Area data in the /examples/ folder. Modify the cells to answer the question below.\n",
    "\n",
    "Question 4a: Which city has the highest number of trips? Which city has the highest proportion of trips made by subscribers? Which city has the highest proportion of trips made by short-term customers?\n",
    "\n",
    "**Answer**: Highest number of trips is: NYC city.\n",
    "            Highest proportion of trips made by subscribers: NYC city.\n",
    "            Highest proportion of trips made by short-term customers: Chicago city."
   ]
  },
  {
   "cell_type": "code",
   "execution_count": 12,
   "metadata": {},
   "outputs": [],
   "source": [
    "def cyclist_segment(row):\n",
    "    \"\"\"\n",
    "    This function reads in a file with trip data and returns what is the segment of\n",
    "    the cyclist.\n",
    "    \"\"\"\n",
    "    #Deciding the value of Cyclist_type variable based on user_type value.\n",
    "    if row['user_type'] == 'Subscriber':\n",
    "        cyclist_type='Subscriber'\n",
    "    else:\n",
    "        cyclist_type='Customer'\n",
    "        \n",
    "        #return the type of the subscriber wether he is a Subscriber or a Customer\n",
    "    return(cyclist_type)"
   ]
  },
  {
   "cell_type": "code",
   "execution_count": 13,
   "metadata": {},
   "outputs": [],
   "source": [
    "def number_of_trips(filename):\n",
    "    \"\"\"\n",
    "    This function reads in a file with trip data and reports the number of\n",
    "    trips made by subscribers, customers, and total overall.\n",
    "    \"\"\"\n",
    "    with open(filename, 'r') as f_in:\n",
    "        # set up csv reader object\n",
    "        reader = csv.DictReader(f_in)\n",
    "        \n",
    "        # initialize count variables\n",
    "        n_subscribers = 0\n",
    "        n_customers = 0\n",
    "        \n",
    "        # tally up ride types\n",
    "        for row in reader:\n",
    "            cyclist_type=cyclist_segment(row)\n",
    "            if cyclist_type == 'Subscriber':\n",
    "                n_subscribers += 1\n",
    "            else:\n",
    "                n_customers += 1\n",
    "        \n",
    "        # compute total number of rides\n",
    "        n_total = n_subscribers + n_customers\n",
    "        proportion_subscribers = (n_subscribers/n_total) * 100\n",
    "        proportion_customers = (n_customers/n_total) * 100\n",
    "        \n",
    "        # return tallies as a tuple\n",
    "        return(n_subscribers,n_customers,n_total,proportion_subscribers, proportion_customers)"
   ]
  },
  {
   "cell_type": "code",
   "execution_count": 14,
   "metadata": {},
   "outputs": [
    {
     "name": "stdout",
     "output_type": "stream",
     "text": [
      "(245896, 30902, 276798, 88.83590199351151, 11.164098006488485)\n",
      "(51753, 14573, 66326, 78.0282242257938, 21.971775774206193)\n",
      "(54982, 17149, 72131, 76.22520136973007, 23.774798630269924)\n",
      "(5666, 633, 6299, 89.95078583902206, 10.049214160977932)\n"
     ]
    }
   ],
   "source": [
    "## Modify this and the previous cell to answer Question 4a. Remember to run ##\n",
    "## the function on the cleaned data files you created from Question 3.      ##\n",
    "\n",
    "NYC_file = './data/NYC-2016-Summary.csv'\n",
    "print(number_of_trips(NYC_file))\n",
    "\n",
    "Washington_file = './data/Washington-2016-Summary.csv'\n",
    "print(number_of_trips(Washington_file))\n",
    "\n",
    "Chicago_file = './data/Chicago-2016-Summary.csv'\n",
    "print(number_of_trips(Chicago_file))\n",
    "\n",
    "BAY_AREA = './examples/BayArea-Y3-Summary.csv'\n",
    "print(number_of_trips(BAY_AREA))"
   ]
  },
  {
   "cell_type": "markdown",
   "metadata": {},
   "source": [
    "Now, you will write your own code to continue investigating properties of the data.\n",
    "\n",
    "**Question 4b**: Bike-share systems are designed for riders to take short trips. Most of the time, users are allowed to take trips of 30 minutes or less with no additional charges, with overage charges made for trips of longer than that duration. What is the average trip length for each city? What proportion of rides made in each city are longer than 30 minutes?\n",
    "\n",
    "**Answer**: Average trip length for each city as the follwoing:\n",
    "            1- NYC: 15.81259299802294\n",
    "            2- Washington: 14.219789700620257\n",
    "            3- Chicago: 16.563629368787335\n",
    "            \n",
    "            Proportions of rides which are longer than 30 minutes as the following:\n",
    "            1- NYC: 7.3024371563378345\n",
    "            2- Washington: 7.981786931218526\n",
    "            3- Chicago: 8.332062497400562\n",
    "            "
   ]
  },
  {
   "cell_type": "code",
   "execution_count": 15,
   "metadata": {
    "scrolled": true
   },
   "outputs": [],
   "source": [
    "## Use this and additional cells to answer Question 4b.                 ##\n",
    "##                                                                      ##\n",
    "## HINT: The csv module reads in all of the data as strings, including  ##\n",
    "## numeric values. You will need a function to convert the strings      ##\n",
    "## into an appropriate numeric type before you aggregate data.          ##\n",
    "## TIP: For the Bay Area example, the average trip length is 14 minutes ##\n",
    "## and 3.5% of trips are longer than 30 minutes.                        ##\n",
    "\n",
    "def average_trip_length(filename):\n",
    "    \"\"\"\n",
    "    This function reads a CSV file and calculate the average trip length\n",
    "    from data within the input file\n",
    "    \"\"\"\n",
    "    with open(filename, 'r') as f_in:\n",
    "        # set up csv reader object\n",
    "        reader = csv.DictReader(f_in)\n",
    "        \n",
    "        # Initialize count variables\n",
    "        n_trips = 0\n",
    "        n_trips_length = 0\n",
    "        \n",
    "        # Sum all duration's values into n_trips_length variable\n",
    "        for row in reader:\n",
    "            n_trips += 1\n",
    "            n_trips_length += float(row['duration'])\n",
    "            \n",
    "        # Calculating the average of trips length and return it.\n",
    "        avg_trip_len = n_trips_length / n_trips\n",
    "        return (avg_trip_len)\n",
    "            \n",
    "    \n",
    "def long_trips(filename):\n",
    "    \"\"\"\n",
    "    This function reads a CSV file and calculate the number of trips which exceeded the 30 minutes.\n",
    "    \"\"\"\n",
    "    with open(filename, 'r') as f_in:\n",
    "        # set up csv reader object\n",
    "        reader = csv.DictReader(f_in)\n",
    "        \n",
    "        # Initialize count variables\n",
    "        n_trips = 0\n",
    "        n_long_trips = 0\n",
    "        percentage = 0\n",
    "        \n",
    "        # Sum all duration's values into n_trips_length variable\n",
    "        for row in reader:\n",
    "            n_trips += 1\n",
    "            if float(row['duration']) > 30:\n",
    "                n_long_trips += 1\n",
    "        \n",
    "         # Calculating the proportation average of trips length which are longer than 30 minutes and return it.\n",
    "        percentage = (n_long_trips / n_trips) * 100\n",
    "        return(n_long_trips, percentage)\n",
    "    \n",
    "    \n",
    "    \n",
    "\n",
    "\n"
   ]
  },
  {
   "cell_type": "code",
   "execution_count": 16,
   "metadata": {},
   "outputs": [
    {
     "name": "stdout",
     "output_type": "stream",
     "text": [
      "(20213, 7.3024371563378345)\n",
      "(5294, 7.981786931218526)\n",
      "(6010, 8.332062497400562)\n"
     ]
    }
   ],
   "source": [
    "NYC_file = './data/NYC-2016-Summary.csv'\n",
    "#print(average_trip_length(NYC_file))\n",
    "print(long_trips(NYC_file))\n",
    "\n",
    "Washington_file = './data/Washington-2016-Summary.csv'\n",
    "#print(average_trip_length(Washington_file))\n",
    "print(long_trips(Washington_file))\n",
    "\n",
    "Chicago_file = './data/Chicago-2016-Summary.csv'\n",
    "#print(average_trip_length(Chicago_file))\n",
    "print(long_trips(Chicago_file))"
   ]
  },
  {
   "cell_type": "markdown",
   "metadata": {},
   "source": [
    "**Question 4c**: Dig deeper into the question of trip duration based on ridership. Choose one city. Within that city, which type of user takes longer rides on average: Subscribers or Customers?\n",
    "\n",
    "**Answer**: The chosen city is NYC, and it seems that Customers are taking longer rides on average with 32.2 minutes meanwhile \n",
    "            Subscriber's average duration is 13.68 minutes."
   ]
  },
  {
   "cell_type": "code",
   "execution_count": 17,
   "metadata": {},
   "outputs": [],
   "source": [
    "## Use this and additional cells to answer Question 4c. If you have    ##\n",
    "## not done so yet, consider revising some of your previous code to    ##\n",
    "## make use of functions for reusability.                              ##\n",
    "\n",
    "def trip_duration_ridership(filename):\n",
    "    \"\"\"\n",
    "    This function reads a CSV file and reports longer rides (duration more than 30) on average\n",
    "    based on ridership only in NYC City.\n",
    "    \"\"\"\n",
    "    with open(filename, 'r') as f_in:\n",
    "        # set up csv reader object\n",
    "        reader = csv.DictReader(f_in)\n",
    "        #Call \"number_of_trips\" function to get number of trips for each segment and total trips\n",
    "        # for a city.\n",
    "        n_subscriber,n_customer, n_total, prop_subscriber, prop_customer = number_of_trips(filename)\n",
    "        \n",
    "        #Initialize count varaibles\n",
    "        total_subscriber_duration = 0\n",
    "        total_customer_duration = 0\n",
    "        \n",
    "        # Sum all duration's values into total_subscriber_duration,total_customer_duration variables based on the value of cyclist_type whether\n",
    "        # its 'Subscriber' or 'Customer'\n",
    "        for row in reader: \n",
    "            cyclist_type=cyclist_segment(row)\n",
    "            if cyclist_type == \"Subscriber\":\n",
    "                total_subscriber_duration += float(row['duration'])\n",
    "            else:\n",
    "                total_customer_duration += float(row['duration'])\n",
    "            \n",
    "    # Calculating the average of trips length for both segments and return them.        \n",
    "    avg_duration_subscriber = (total_subscriber_duration/n_subscriber)\n",
    "    avg_duration_customer = (total_customer_duration/n_customer)\n",
    "    return(avg_duration_subscriber,avg_duration_customer)\n",
    "            \n"
   ]
  },
  {
   "cell_type": "code",
   "execution_count": 18,
   "metadata": {},
   "outputs": [
    {
     "name": "stdout",
     "output_type": "stream",
     "text": [
      "(13.680790523907177, 32.77595139473187)\n"
     ]
    }
   ],
   "source": [
    "NYC_file = './data/NYC-2016-Summary.csv'\n",
    "#NYC_file = './examples/BayArea-Y3-Summary.csv'\n",
    "#print(average_trip_length(NYC_file))\n",
    "print(trip_duration_ridership(NYC_file))"
   ]
  },
  {
   "cell_type": "markdown",
   "metadata": {},
   "source": [
    "<a id='visualizations'></a>\n",
    "### Visualizations\n",
    "\n",
    "The last set of values that you computed should have pulled up an interesting result. While the mean trip time for Subscribers is well under 30 minutes, the mean trip time for Customers is actually _above_ 30 minutes! It will be interesting for us to look at how the trip times are distributed. In order to do this, a new library will be introduced here, `matplotlib`. Run the cell below to load the library and to generate an example plot."
   ]
  },
  {
   "cell_type": "code",
   "execution_count": 19,
   "metadata": {},
   "outputs": [
    {
     "data": {
      "image/png": "[encoded data removed]",
      "text/plain": [
       "<matplotlib.figure.Figure at 0x7f8aa4756390>"
      ]
     },
     "metadata": {
      "needs_background": "light"
     },
     "output_type": "display_data"
    }
   ],
   "source": [
    "# load library\n",
    "import matplotlib.pyplot as plt\n",
    "\n",
    "# this is a 'magic word' that allows for plots to be displayed\n",
    "# inline with the notebook. If you want to know more, see:\n",
    "# http://ipython.readthedocs.io/en/stable/interactive/magics.html\n",
    "%matplotlib inline \n",
    "\n",
    "# example histogram, data taken from bay area sample\n",
    "data = [ 7.65,  8.92,  7.42,  5.50, 16.17,  4.20,  8.98,  9.62, 11.48, 14.33,\n",
    "        19.02, 21.53,  3.90,  7.97,  2.62,  2.67,  3.08, 14.40, 12.90,  7.83,\n",
    "        25.12,  8.30,  4.93, 12.43, 10.60,  6.17, 10.88,  4.78, 15.15,  3.53,\n",
    "         9.43, 13.32, 11.72,  9.85,  5.22, 15.10,  3.95,  3.17,  8.78,  1.88,\n",
    "         4.55, 12.68, 12.38,  9.78,  7.63,  6.45, 17.38, 11.90, 11.52,  8.63,]\n",
    "plt.hist(data)\n",
    "plt.title('Distribution of Trip Durations')\n",
    "plt.xlabel('Duration (m)')\n",
    "plt.show()"
   ]
  },
  {
   "cell_type": "markdown",
   "metadata": {},
   "source": [
    "In the above cell, we collected fifty trip times in a list, and passed this list as the first argument to the `.hist()` function. This function performs the computations and creates plotting objects for generating a histogram, but the plot is actually not rendered until the `.show()` function is executed. The `.title()` and `.xlabel()` functions provide some labeling for plot context.\n",
    "\n",
    "You will now use these functions to create a histogram of the trip times for the city you selected in question 4c. Don't separate the Subscribers and Customers for now: just collect all of the trip times and plot them."
   ]
  },
  {
   "cell_type": "code",
   "execution_count": 20,
   "metadata": {},
   "outputs": [],
   "source": [
    "## Use this and additional cells to collect all of the trip times as a list ##\n",
    "## and then use pyplot functions to generate a histogram of trip times.     ##\n",
    "\n",
    "def plot_durations(filename):\n",
    "    \"\"\"\n",
    "    This function reads a CSV file and saves every duration for each trip in a list, then we use this\n",
    "    list to plot it using matplotlib Library.\n",
    "    \"\"\"\n",
    "    with open(filename, 'r') as f_in:\n",
    "        # set up csv reader object\n",
    "        reader = csv.DictReader(f_in)\n",
    "        \n",
    "        #Initialize an empty list\n",
    "        data_list=[]\n",
    "        \n",
    "        # ADD the value of duration for each reacord into data_list List.\n",
    "        for row in reader:\n",
    "            data_list.append(row['duration'])\n",
    "            \n",
    "        # Using the data_list List to generate a Histogram     \n",
    "        plt.hist(data_list)\n",
    "        plt.title('Distribution of Trip Durations')\n",
    "        plt.xlabel('Duration (m)')\n",
    "        plt.show()\n",
    "        "
   ]
  },
  {
   "cell_type": "code",
   "execution_count": 21,
   "metadata": {},
   "outputs": [
    {
     "data": {
      "image/png": "[encoded data removed]",
      "text/plain": [
       "<matplotlib.figure.Figure at 0x7f8a7f9d72e8>"
      ]
     },
     "metadata": {
      "needs_background": "light"
     },
     "output_type": "display_data"
    },
    {
     "name": "stdout",
     "output_type": "stream",
     "text": [
      "None\n"
     ]
    }
   ],
   "source": [
    "NYC_file = './data/NYC-2016-Summary.csv'\n",
    "print(plot_durations(NYC_file))"
   ]
  },
  {
   "cell_type": "markdown",
   "metadata": {},
   "source": [
    "If you followed the use of the `.hist()` and `.show()` functions exactly like in the example, you're probably looking at a plot that's completely unexpected. The plot consists of one extremely tall bar on the left, maybe a very short second bar, and a whole lot of empty space in the center and right. Take a look at the duration values on the x-axis. This suggests that there are some highly infrequent outliers in the data. Instead of reprocessing the data, you will use additional parameters with the `.hist()` function to limit the range of data that is plotted. Documentation for the function can be found [[here]](https://matplotlib.org/devdocs/api/_as_gen/matplotlib.pyplot.hist.html#matplotlib.pyplot.hist).\n",
    "\n",
    "**Question 5**: Use the parameters of the `.hist()` function to plot the distribution of trip times for the Subscribers in your selected city. Do the same thing for only the Customers. Add limits to the plots so that only trips of duration less than 75 minutes are plotted. As a bonus, set the plots up so that bars are in five-minute wide intervals. For each group, where is the peak of each distribution? How would you describe the shape of each distribution?\n",
    "\n",
    "**Answer**: The peak of Subscribers' distribution is between 5 and 10 minutes and The peak of Customers' distribution is between 20 and 25 minutes.\n",
    "            Subscribers' distribution was started to imporving through the first interval(between 0 and 10 minutes) until it reached the peak point and then started to fall down in other intervals till reached its minimal point in interval (50-60 Min). \n",
    "            Customers' distribution was started to imporving through intervals (from 0 to 22 minutes) until it reached the peak point and then started to fall down in other intervals till it reached its minimal point in interval (65-70 Min)."
   ]
  },
  {
   "cell_type": "code",
   "execution_count": 22,
   "metadata": {},
   "outputs": [],
   "source": [
    "## Use this and additional cells to answer Question 5. ##\n",
    "def conditional_plotting(filename, City):\n",
    "    \n",
    "    \"\"\"\n",
    "    This function reads a CSV file and saves every duration for each trip in a list based on the ridership\n",
    "    and the trip duration must be less than 75 minutes for both segments,\n",
    "    then we use this list to plot it using matplotlib Library within 15 intervals ONLY.\n",
    "    \"\"\"\n",
    "    with open(filename, 'r') as f_in:\n",
    "        # set up csv reader object\n",
    "        reader = csv.DictReader(f_in)\n",
    "        \n",
    "        #Initialize empty lists\n",
    "        subscriber_list=[]\n",
    "        customer_list=[]\n",
    "        seq = []\n",
    "        \n",
    "        for row in reader:\n",
    "            cyclist_type=cyclist_segment(row)\n",
    "            if cyclist_type == \"Subscriber\" and float(row['duration']) < 75:\n",
    "                subscriber_list.append(float(row['duration']))\n",
    "            elif cyclist_type == \"Customer\" and float(row['duration']) < 75:\n",
    "                customer_list.append(float(row['duration']))\n",
    "        for x in range(75):\n",
    "            if x % 5 == 0:\n",
    "                seq.append(x)\n",
    "        # Using the subsciber_list List to generate a Histogram with bars have 5 minutes wide intervals. \n",
    "        plt.hist(subscriber_list,bins=seq)\n",
    "        title = \"Distribution of Subscribers\\' Trips Durations in {} City\".format(city)\n",
    "        plt.title(title)\n",
    "        plt.xlabel('Duration (m)')\n",
    "        plt.show()\n",
    "        \n",
    "        # Using the customer_list List to generate a Histogram with bars have 5 minutes wide intervals.\n",
    "        plt.hist(customer_list,bins=seq)\n",
    "        title = \"Distribution of Customers\\' Trips Durations in {} City\".format(city)\n",
    "        plt.title(title)\n",
    "        plt.xlabel('Duration (m)')\n",
    "        plt.show()"
   ]
  },
  {
   "cell_type": "code",
   "execution_count": 23,
   "metadata": {},
   "outputs": [
    {
     "data": {
      "image/png": "[encoded data removed]",
      "text/plain": [
       "<matplotlib.figure.Figure at 0x7f8a7aac1828>"
      ]
     },
     "metadata": {
      "needs_background": "light"
     },
     "output_type": "display_data"
    },
    {
     "data": {
      "image/png": "[encoded data removed]",
      "text/plain": [
       "<matplotlib.figure.Figure at 0x7f8a82d2a908>"
      ]
     },
     "metadata": {
      "needs_background": "light"
     },
     "output_type": "display_data"
    },
    {
     "name": "stdout",
     "output_type": "stream",
     "text": [
      "None\n"
     ]
    }
   ],
   "source": [
    "# Test conditional_plotting function \n",
    "NYC_file = './data/NYC-2016-Summary.csv'\n",
    "print(conditional_plotting(NYC_file, \"NYC\"))"
   ]
  },
  {
   "cell_type": "markdown",
   "metadata": {
    "collapsed": true
   },
   "source": [
    "<a id='eda_continued'></a>\n",
    "## Performing Your Own Analysis\n",
    "\n",
    "So far, you've performed an initial exploration into the data available. You have compared the relative volume of trips made between three U.S. cities and the ratio of trips made by Subscribers and Customers. For one of these cities, you have investigated differences between Subscribers and Customers in terms of how long a typical trip lasts. Now it is your turn to continue the exploration in a direction that you choose. Here are a few suggestions for questions to explore:\n",
    "\n",
    "- How does ridership differ by month or season? Which month / season has the highest ridership? Does the ratio of Subscriber trips to Customer trips change depending on the month or season?\n",
    "- Is the pattern of ridership different on the weekends versus weekdays? On what days are Subscribers most likely to use the system? What about Customers? Does the average duration of rides change depending on the day of the week?\n",
    "- During what time of day is the system used the most? Is there a difference in usage patterns for Subscribers and Customers?\n",
    "\n",
    "If any of the questions you posed in your answer to question 1 align with the bullet points above, this is a good opportunity to investigate one of them. As part of your investigation, you will need to create a visualization. If you want to create something other than a histogram, then you might want to consult the [Pyplot documentation](https://matplotlib.org/devdocs/api/pyplot_summary.html). In particular, if you are plotting values across a categorical variable (e.g. city, user type), a bar chart will be useful. The [documentation page for `.bar()`](https://matplotlib.org/devdocs/api/_as_gen/matplotlib.pyplot.bar.html#matplotlib.pyplot.bar) includes links at the bottom of the page with examples for you to build off of for your own use.\n",
    "\n",
    "**Question 6**: Continue the investigation by exploring another question that could be answered by the data available. Document the question you want to explore below. Your investigation should involve at least two variables and should compare at least two groups. You should also use at least one visualization as part of your explorations.\n",
    "\n",
    "**Answer**: The choosen question is: \"Is the pattern of ridership different on the weekends versus weekdays? On what days are Subscribers most likely to use the system? What about Customers? Does the average duration of rides change depending on the day of the week?\", and the choosen city is \"Chicago\".\n",
    "\n",
    "The results shown that the pattern of ridership differs based on the day of the week in Chicago city. Both segments prefer to cycle in weekends more than in weekdays. Thus, the average duration of trips which made in weekends is slightly more than the average duration of the trips  in weekdays for both segments Subscibers & Customers.Also,The advanced analysis shows that duration of trips which are done by 'customers' in weekends more than the duration of the trips done by 'Subscribesrs' which is represented in the below two visualizations."
   ]
  },
  {
   "cell_type": "code",
   "execution_count": 24,
   "metadata": {},
   "outputs": [],
   "source": [
    "## Use this and additional cells to continue to explore the dataset. ##\n",
    "## Once you have performed your exploration, document your findings  ##\n",
    "## in the Markdown cell above.                                       ##\n",
    "def ridership_advanced_analysis(filename, city ='Chicago'):\n",
    "    \"\"\"\n",
    "    This function reads a CSV file and returns the number of trips within Weekends and within Weekdays based on ridership.\n",
    "    Also, this function produces two visulaizations based on the cyclist segment.\n",
    "    \"\"\"\n",
    "    with open(filename, 'r') as f_in:\n",
    "        # set up csv reader object\n",
    "        reader = csv.DictReader(f_in)\n",
    "        \n",
    "        #Initialize empty lists and count variables\n",
    "        weekends_subscriber_list=[]\n",
    "        subs_count_weekends=0\n",
    "        weekdays_subscriber_list=[]\n",
    "        subs_count_weekdays=0\n",
    "        weekends_customer_list=[]\n",
    "        cuss_count_weekends=0\n",
    "        weekdays_customer_list=[]\n",
    "        cuss_count_weekdays=0\n",
    "        \n",
    "        \n",
    "        for row in reader:\n",
    "            #Deciding type of cyclist whether it is Subscriber or Customer\n",
    "            cyclist_type=cyclist_segment(row)\n",
    "            \n",
    "            #Deciding the day of week the trip was taken, and in what list the value will be put into.\n",
    "            if cyclist_type == \"Subscriber\":\n",
    "                if row['day_of_week']=='Saturday' or row['day_of_week']=='Sunday':\n",
    "                    weekends_subscriber_list.append(float(row['duration']))\n",
    "                    subs_count_weekends += 1\n",
    "                else:\n",
    "                    weekdays_subscriber_list.append(float(row['duration']))\n",
    "                    subs_count_weekdays += 1\n",
    "                    \n",
    "            if cyclist_type == \"Customer\":\n",
    "                if row['day_of_week']=='Saturday' or row['day_of_week']=='Sunday':\n",
    "                    weekends_customer_list.append(float(row['duration']))\n",
    "                    cuss_count_weekends += 1\n",
    "                else:\n",
    "                    weekdays_customer_list.append(float(row['duration']))\n",
    "                    cuss_count_weekdays += 1\n",
    "        \n",
    "        #Calculating AVGs for each segment in each category of the week\n",
    "        subscriber_weekends_avg = float(sum(weekends_subscriber_list)) / subs_count_weekends\n",
    "        \n",
    "        subscriber_weekdays_avg = float(sum(weekdays_subscriber_list)) /subs_count_weekdays\n",
    "        \n",
    "        customer_weekends_avg = float(sum(weekdays_customer_list)) / cuss_count_weekends \n",
    "\n",
    "        customer_weekdays_avg = float(sum(weekdays_customer_list)) / cuss_count_weekdays \n",
    "        \n",
    "        # Visual the two subscriber_weekends_avg, customer_weekends_avg variables in compare with the duration\n",
    "        plt.hist(subscriber_weekends_avg)\n",
    "        title = \"Distribution of Customers\\' Trips Durations in {} City\".format(city)\n",
    "        plt.title(title)\n",
    "        plt.xlabel('Duration (m)')\n",
    "        plt.show()\n",
    "        \n",
    "        plt.hist(customer_weekends_avg)\n",
    "        title = \"Distribution of Customers\\' Trips Durations in {} City\".format(city)\n",
    "        plt.title(title)\n",
    "        plt.xlabel('Duration (m)')\n",
    "        plt.show()\n",
    "        \n",
    "        # return four variables which are:subscriber_weekends_avg, subscriber_weekdays_avg,\n",
    "        # customer_weekends_avg, customer_weekdays_avg\n",
    "        return (subscriber_weekends_avg, subscriber_weekdays_avg, customer_weekends_avg, customer_weekdays_avg)\n",
    "        "
   ]
  },
  {
   "cell_type": "code",
   "execution_count": 25,
   "metadata": {},
   "outputs": [
    {
     "data": {
      "image/png": "[encoded data removed]",
      "text/plain": [
       "<matplotlib.figure.Figure at 0x7f8a7af176d8>"
      ]
     },
     "metadata": {
      "needs_background": "light"
     },
     "output_type": "display_data"
    },
    {
     "data": {
      "image/png": "[encoded data removed]",
      "text/plain": [
       "<matplotlib.figure.Figure at 0x7f8a7b09f6d8>"
      ]
     },
     "metadata": {
      "needs_background": "light"
     },
     "output_type": "display_data"
    },
    {
     "name": "stdout",
     "output_type": "stream",
     "text": [
      "(13.207232078204227, 11.78052040181478, 31.168803468885663, 30.86854688950805)\n"
     ]
    }
   ],
   "source": [
    "# Test ridership_advanced_analysis function \n",
    "\n",
    "Chicago_file = './data/Chicago-2016-Summary.csv'\n",
    "print(ridership_advanced_analysis(Chicago_file))"
   ]
  },
  {
   "cell_type": "markdown",
   "metadata": {},
   "source": [
    "<a id='conclusions'></a>\n",
    "## Conclusions\n",
    "\n",
    "Congratulations on completing the project! This is only a sampling of the data analysis process: from generating questions, wrangling the data, and to exploring the data. Normally, at this point in the data analysis process, you might want to draw conclusions about the data by performing a statistical test or fitting the data to a model for making predictions. There are also a lot of potential analyses that could be performed on the data which are not possible with only the data provided. For example, detailed location data has not been investigated. Where are the most commonly used docks? What are the most common routes? As another example, weather has potential to have a large impact on daily ridership. How much is ridership impacted when there is rain or snow? Are subscribers or customers affected more by changes in weather?\n",
    "\n",
    "**Question 7**: Putting the bike share data aside, think of a topic or field of interest where you would like to be able to apply the techniques of data science. What would you like to be able to learn from your chosen subject?\n",
    "\n",
    "**Answer**: How much would it be important to use the techniques of data science with the autonomous cars when they are available in the market?"
   ]
  },
  {
   "cell_type": "markdown",
   "metadata": {},
   "source": [
    "### Resources: ###\n",
    "##### www.stackoverflow.com #####"
   ]
  }
 ],
 "metadata": {
  "anaconda-cloud": {},
  "kernelspec": {
   "display_name": "Python 3",
   "language": "python",
   "name": "python3"
  },
  "language_info": {
   "codemirror_mode": {
    "name": "ipython",
    "version": 3
   },
   "file_extension": ".py",
   "mimetype": "text/x-python",
   "name": "python",
   "nbconvert_exporter": "python",
   "pygments_lexer": "ipython3",
   "version": "3.6.3"
  }
 },
 "nbformat": 4,
 "nbformat_minor": 1
}
